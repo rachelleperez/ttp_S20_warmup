{
 "cells": [
  {
   "cell_type": "markdown",
   "metadata": {},
   "source": [
    "# 1)"
   ]
  },
  {
   "cell_type": "code",
   "execution_count": 6,
   "metadata": {},
   "outputs": [
    {
     "data": {
      "text/plain": [
       "15"
      ]
     },
     "execution_count": 6,
     "metadata": {},
     "output_type": "execute_result"
    }
   ],
   "source": [
    "# 1 - use the len function to add up sum the total number of characters in all the \n",
    "#words together in the following list\n",
    "\n",
    "still_words = ['1','22','333','4444','55555']\n",
    "\n",
    "len_still_words = []\n",
    "    \n",
    "for x in still_words:\n",
    "    len_still_words.append(len(x))\n",
    "    \n",
    "sum(len_still_words)"
   ]
  },
  {
   "cell_type": "code",
   "execution_count": 13,
   "metadata": {},
   "outputs": [
    {
     "data": {
      "text/plain": [
       "15"
      ]
     },
     "execution_count": 13,
     "metadata": {},
     "output_type": "execute_result"
    }
   ],
   "source": [
    "# function version\n",
    "\n",
    "def add_lenghts (lst):\n",
    "    len_lst = []\n",
    "    for x in lst:\n",
    "        len_lst.append(len(x))\n",
    "    return sum(len_lst)\n",
    "    \n",
    "add_lenghts(still_words)    "
   ]
  },
  {
   "cell_type": "markdown",
   "metadata": {},
   "source": [
    "# 2)"
   ]
  },
  {
   "cell_type": "code",
   "execution_count": 9,
   "metadata": {},
   "outputs": [
    {
     "data": {
      "text/plain": [
       "60355"
      ]
     },
     "execution_count": 9,
     "metadata": {},
     "output_type": "execute_result"
    }
   ],
   "source": [
    "# 2 - get the numeric values of the list items (eg. the value of '22' is 22), and print the sum.\n",
    "\n",
    "still_words = ['1','22','333','4444','55555']\n",
    "int_still_words = []\n",
    "\n",
    "for x in still_words:\n",
    "    int_still_words.append(int(x))\n",
    "    \n",
    "sum(int_still_words)"
   ]
  },
  {
   "cell_type": "code",
   "execution_count": 15,
   "metadata": {},
   "outputs": [
    {
     "data": {
      "text/plain": [
       "60355"
      ]
     },
     "execution_count": 15,
     "metadata": {},
     "output_type": "execute_result"
    }
   ],
   "source": [
    "# function version\n",
    "\n",
    "def sum_int_str (lst):\n",
    "    int_lst = []\n",
    "    for x in lst:\n",
    "        int_lst.append(int(x))\n",
    "    return sum(int_lst)\n",
    "    \n",
    "sum_int_str(still_words) "
   ]
  },
  {
   "cell_type": "markdown",
   "metadata": {},
   "source": [
    "# 3)"
   ]
  },
  {
   "cell_type": "code",
   "execution_count": 7,
   "metadata": {},
   "outputs": [
    {
     "name": "stdout",
     "output_type": "stream",
     "text": [
      "['one', 'two', 'three', 'four', 'five']\n"
     ]
    }
   ],
   "source": [
    "# 3 - How do you fix the typo in this list, without rewriting the whole list?\n",
    "words = ['one','two','three','for','five']\n",
    "\n",
    "words[3] = 'four'\n",
    "\n",
    "print(words)"
   ]
  }
 ],
 "metadata": {
  "kernelspec": {
   "display_name": "Python 3",
   "language": "python",
   "name": "python3"
  },
  "language_info": {
   "codemirror_mode": {
    "name": "ipython",
    "version": 3
   },
   "file_extension": ".py",
   "mimetype": "text/x-python",
   "name": "python",
   "nbconvert_exporter": "python",
   "pygments_lexer": "ipython3",
   "version": "3.7.3"
  }
 },
 "nbformat": 4,
 "nbformat_minor": 2
}
